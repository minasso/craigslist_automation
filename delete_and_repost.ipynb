{
 "cells": [
  {
   "cell_type": "code",
   "execution_count": 1,
   "metadata": {
    "collapsed": true
   },
   "outputs": [],
   "source": [
    "import pandas as pd\n",
    "import pickle\n",
    "from selenium import webdriver\n",
    "from selenium.webdriver.common.keys import Keys"
   ]
  },
  {
   "cell_type": "code",
   "execution_count": 2,
   "metadata": {
    "collapsed": true
   },
   "outputs": [],
   "source": [
    "#obtain login info\n",
    "emails=pickle.load(open('email_info','rb'))\n",
    "passwords = pickle.load(open('pword_info','rb'))"
   ]
  },
  {
   "cell_type": "code",
   "execution_count": 13,
   "metadata": {
    "collapsed": true
   },
   "outputs": [],
   "source": [
    "def repost(email, password):\n",
    "    link='https://accounts.craigslist.org/login/home'\n",
    "    driver = webdriver.Chrome()\n",
    "    driver.get(link)\n",
    "    driver.find_element_by_id('inputEmailHandle').send_keys(email)\n",
    "    driver.find_element_by_id('inputPassword').send_keys(password)\n",
    "    \n",
    "    driver.find_element_by_xpath('/html/body/section/section/div/div[1]/form/div[3]/button').click()\n",
    "    i=0 #temporarily set to 2 since i already manually reposted first two ads\n",
    "    while i<2:  #30 is used as a maximum number of ads that require reposting\n",
    "        i+=1\n",
    "        try:            \n",
    "            driver.find_element_by_xpath('//*[@id=\"paginator\"]/table/thead/tr/th[1]/div/div/i').click()\n",
    "            driver.find_element_by_xpath('//*[@id=\"paginator\"]/table/tbody/tr[{}]/td[2]/div/form[1]/input[3]'.format(i)).click()\n",
    "            driver.find_element_by_xpath('/html/body/article/section/div[1]/table/tbody/tr[2]/td[1]/div/form/input[2]'.format(i)).click()\n",
    "            driver.find_element_by_xpath('//*[@id=\"postingForm\"]/div/button').click()\n",
    "            driver.find_element_by_xpath('//*[@id=\"publish_top\"]/button').click()\n",
    "            driver.find_element_by_xpath('/html/body/article/section/ul/li[3]/a').click()\n",
    "        except:\n",
    "            pass\n",
    "#             driver.close()\n",
    "    return"
   ]
  },
  {
   "cell_type": "code",
   "execution_count": 4,
   "metadata": {
    "collapsed": true
   },
   "outputs": [],
   "source": [
    "# #loop thru all email/password combinations\n",
    "# for i in range(3):\n",
    "#     repost(emails[i],passwords[i])"
   ]
  },
  {
   "cell_type": "code",
   "execution_count": 16,
   "metadata": {
    "collapsed": true
   },
   "outputs": [],
   "source": [
    "repost(emails[2],passwords[2])"
   ]
  }
 ],
 "metadata": {
  "kernelspec": {
   "display_name": "Python 3",
   "language": "python",
   "name": "python3"
  },
  "language_info": {
   "codemirror_mode": {
    "name": "ipython",
    "version": 3
   },
   "file_extension": ".py",
   "mimetype": "text/x-python",
   "name": "python",
   "nbconvert_exporter": "python",
   "pygments_lexer": "ipython3",
   "version": "3.5.2"
  }
 },
 "nbformat": 4,
 "nbformat_minor": 2
}
