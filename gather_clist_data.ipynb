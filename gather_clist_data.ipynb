{
 "cells": [
  {
   "cell_type": "markdown",
   "metadata": {},
   "source": [
    "Steps:\n",
    "1. Make a beautiful soup object from homepage to extract the links of postable locations\n",
    "2. Get zipcodes for each location\n",
    "3. Create a dataframe with location, link, zipcode"
   ]
  },
  {
   "cell_type": "code",
   "execution_count": 20,
   "metadata": {
    "collapsed": true
   },
   "outputs": [],
   "source": [
    "def makesoup(url):\n",
    "    import requests, bs4, re\n",
    "    res = requests.get(url)\n",
    "    res.raise_for_status()\n",
    "    soup = bs4.BeautifulSoup(res.text, \"lxml\")\n",
    "    return(soup)"
   ]
  },
  {
   "cell_type": "code",
   "execution_count": 21,
   "metadata": {
    "collapsed": true
   },
   "outputs": [],
   "source": [
    "#Create bs object from clist homepage in order to extract the links of all postable locations\n",
    "url = 'https://newyork.craigslist.org/'\n",
    "soup = makesoup(url)\n",
    "link_info = soup.find('li', {'class':'s'} )"
   ]
  },
  {
   "cell_type": "code",
   "execution_count": 22,
   "metadata": {
    "scrolled": true
   },
   "outputs": [
    {
     "data": {
      "text/plain": [
       "30"
      ]
     },
     "execution_count": 22,
     "metadata": {},
     "output_type": "execute_result"
    },
    {
     "data": {
      "text/plain": [
       "1"
      ]
     },
     "execution_count": 22,
     "metadata": {},
     "output_type": "execute_result"
    },
    {
     "data": {
      "text/plain": [
       "36"
      ]
     },
     "execution_count": 22,
     "metadata": {},
     "output_type": "execute_result"
    },
    {
     "data": {
      "text/plain": [
       "1"
      ]
     },
     "execution_count": 22,
     "metadata": {},
     "output_type": "execute_result"
    },
    {
     "data": {
      "text/plain": [
       "36"
      ]
     },
     "execution_count": 22,
     "metadata": {},
     "output_type": "execute_result"
    },
    {
     "data": {
      "text/plain": [
       "1"
      ]
     },
     "execution_count": 22,
     "metadata": {},
     "output_type": "execute_result"
    },
    {
     "data": {
      "text/plain": [
       "38"
      ]
     },
     "execution_count": 22,
     "metadata": {},
     "output_type": "execute_result"
    },
    {
     "data": {
      "text/plain": [
       "1"
      ]
     },
     "execution_count": 22,
     "metadata": {},
     "output_type": "execute_result"
    },
    {
     "data": {
      "text/plain": [
       "36"
      ]
     },
     "execution_count": 22,
     "metadata": {},
     "output_type": "execute_result"
    },
    {
     "data": {
      "text/plain": [
       "1"
      ]
     },
     "execution_count": 22,
     "metadata": {},
     "output_type": "execute_result"
    },
    {
     "data": {
      "text/plain": [
       "31"
      ]
     },
     "execution_count": 22,
     "metadata": {},
     "output_type": "execute_result"
    },
    {
     "data": {
      "text/plain": [
       "1"
      ]
     },
     "execution_count": 22,
     "metadata": {},
     "output_type": "execute_result"
    },
    {
     "data": {
      "text/plain": [
       "34"
      ]
     },
     "execution_count": 22,
     "metadata": {},
     "output_type": "execute_result"
    },
    {
     "data": {
      "text/plain": [
       "1"
      ]
     },
     "execution_count": 22,
     "metadata": {},
     "output_type": "execute_result"
    },
    {
     "data": {
      "text/plain": [
       "37"
      ]
     },
     "execution_count": 22,
     "metadata": {},
     "output_type": "execute_result"
    },
    {
     "data": {
      "text/plain": [
       "1"
      ]
     },
     "execution_count": 22,
     "metadata": {},
     "output_type": "execute_result"
    },
    {
     "data": {
      "text/plain": [
       "43"
      ]
     },
     "execution_count": 22,
     "metadata": {},
     "output_type": "execute_result"
    },
    {
     "data": {
      "text/plain": [
       "1"
      ]
     },
     "execution_count": 22,
     "metadata": {},
     "output_type": "execute_result"
    },
    {
     "data": {
      "text/plain": [
       "38"
      ]
     },
     "execution_count": 22,
     "metadata": {},
     "output_type": "execute_result"
    },
    {
     "data": {
      "text/plain": [
       "1"
      ]
     },
     "execution_count": 22,
     "metadata": {},
     "output_type": "execute_result"
    },
    {
     "data": {
      "text/plain": [
       "34"
      ]
     },
     "execution_count": 22,
     "metadata": {},
     "output_type": "execute_result"
    },
    {
     "data": {
      "text/plain": [
       "1"
      ]
     },
     "execution_count": 22,
     "metadata": {},
     "output_type": "execute_result"
    },
    {
     "data": {
      "text/plain": [
       "43"
      ]
     },
     "execution_count": 22,
     "metadata": {},
     "output_type": "execute_result"
    },
    {
     "data": {
      "text/plain": [
       "1"
      ]
     },
     "execution_count": 22,
     "metadata": {},
     "output_type": "execute_result"
    },
    {
     "data": {
      "text/plain": [
       "41"
      ]
     },
     "execution_count": 22,
     "metadata": {},
     "output_type": "execute_result"
    },
    {
     "data": {
      "text/plain": [
       "1"
      ]
     },
     "execution_count": 22,
     "metadata": {},
     "output_type": "execute_result"
    },
    {
     "data": {
      "text/plain": [
       "36"
      ]
     },
     "execution_count": 22,
     "metadata": {},
     "output_type": "execute_result"
    },
    {
     "data": {
      "text/plain": [
       "1"
      ]
     },
     "execution_count": 22,
     "metadata": {},
     "output_type": "execute_result"
    },
    {
     "data": {
      "text/plain": [
       "39"
      ]
     },
     "execution_count": 22,
     "metadata": {},
     "output_type": "execute_result"
    },
    {
     "data": {
      "text/plain": [
       "1"
      ]
     },
     "execution_count": 22,
     "metadata": {},
     "output_type": "execute_result"
    },
    {
     "data": {
      "text/plain": [
       "35"
      ]
     },
     "execution_count": 22,
     "metadata": {},
     "output_type": "execute_result"
    },
    {
     "data": {
      "text/plain": [
       "1"
      ]
     },
     "execution_count": 22,
     "metadata": {},
     "output_type": "execute_result"
    },
    {
     "data": {
      "text/plain": [
       "39"
      ]
     },
     "execution_count": 22,
     "metadata": {},
     "output_type": "execute_result"
    },
    {
     "data": {
      "text/plain": [
       "1"
      ]
     },
     "execution_count": 22,
     "metadata": {},
     "output_type": "execute_result"
    },
    {
     "data": {
      "text/plain": [
       "34"
      ]
     },
     "execution_count": 22,
     "metadata": {},
     "output_type": "execute_result"
    },
    {
     "data": {
      "text/plain": [
       "1"
      ]
     },
     "execution_count": 22,
     "metadata": {},
     "output_type": "execute_result"
    },
    {
     "data": {
      "text/plain": [
       "32"
      ]
     },
     "execution_count": 22,
     "metadata": {},
     "output_type": "execute_result"
    },
    {
     "data": {
      "text/plain": [
       "1"
      ]
     },
     "execution_count": 22,
     "metadata": {},
     "output_type": "execute_result"
    },
    {
     "data": {
      "text/plain": [
       "42"
      ]
     },
     "execution_count": 22,
     "metadata": {},
     "output_type": "execute_result"
    },
    {
     "data": {
      "text/plain": [
       "1"
      ]
     },
     "execution_count": 22,
     "metadata": {},
     "output_type": "execute_result"
    },
    {
     "data": {
      "text/plain": [
       "32"
      ]
     },
     "execution_count": 22,
     "metadata": {},
     "output_type": "execute_result"
    },
    {
     "data": {
      "text/plain": [
       "1"
      ]
     },
     "execution_count": 22,
     "metadata": {},
     "output_type": "execute_result"
    },
    {
     "data": {
      "text/plain": [
       "32"
      ]
     },
     "execution_count": 22,
     "metadata": {},
     "output_type": "execute_result"
    },
    {
     "data": {
      "text/plain": [
       "1"
      ]
     },
     "execution_count": 22,
     "metadata": {},
     "output_type": "execute_result"
    },
    {
     "data": {
      "text/plain": [
       "40"
      ]
     },
     "execution_count": 22,
     "metadata": {},
     "output_type": "execute_result"
    },
    {
     "data": {
      "text/plain": [
       "1"
      ]
     },
     "execution_count": 22,
     "metadata": {},
     "output_type": "execute_result"
    },
    {
     "data": {
      "text/plain": [
       "34"
      ]
     },
     "execution_count": 22,
     "metadata": {},
     "output_type": "execute_result"
    },
    {
     "data": {
      "text/plain": [
       "1"
      ]
     },
     "execution_count": 22,
     "metadata": {},
     "output_type": "execute_result"
    },
    {
     "data": {
      "text/plain": [
       "39"
      ]
     },
     "execution_count": 22,
     "metadata": {},
     "output_type": "execute_result"
    },
    {
     "data": {
      "text/plain": [
       "1"
      ]
     },
     "execution_count": 22,
     "metadata": {},
     "output_type": "execute_result"
    },
    {
     "data": {
      "text/plain": [
       "41"
      ]
     },
     "execution_count": 22,
     "metadata": {},
     "output_type": "execute_result"
    },
    {
     "data": {
      "text/plain": [
       "1"
      ]
     },
     "execution_count": 22,
     "metadata": {},
     "output_type": "execute_result"
    },
    {
     "data": {
      "text/plain": [
       "41"
      ]
     },
     "execution_count": 22,
     "metadata": {},
     "output_type": "execute_result"
    },
    {
     "data": {
      "text/plain": [
       "1"
      ]
     },
     "execution_count": 22,
     "metadata": {},
     "output_type": "execute_result"
    },
    {
     "data": {
      "text/plain": [
       "42"
      ]
     },
     "execution_count": 22,
     "metadata": {},
     "output_type": "execute_result"
    },
    {
     "data": {
      "text/plain": [
       "1"
      ]
     },
     "execution_count": 22,
     "metadata": {},
     "output_type": "execute_result"
    },
    {
     "data": {
      "text/plain": [
       "36"
      ]
     },
     "execution_count": 22,
     "metadata": {},
     "output_type": "execute_result"
    },
    {
     "data": {
      "text/plain": [
       "1"
      ]
     },
     "execution_count": 22,
     "metadata": {},
     "output_type": "execute_result"
    },
    {
     "data": {
      "text/plain": [
       "26"
      ]
     },
     "execution_count": 22,
     "metadata": {},
     "output_type": "execute_result"
    },
    {
     "data": {
      "text/plain": [
       "1"
      ]
     },
     "execution_count": 22,
     "metadata": {},
     "output_type": "execute_result"
    }
   ],
   "source": [
    "# Clean up the link_info using regex to get rid of everything but the urls and locations\n",
    "import re\n",
    "pat = re.compile('\"\\/\\/(\\w+\\.\\w+\\.org\\/\">\\w+\\s?\\w+)')\n",
    "m = re.findall(pat,str(link_info))\n",
    "with open('clistlinks.txt', 'w') as wf:\n",
    "    for item in m:\n",
    "        wf.write(item)\n",
    "        wf.write('\\n')"
   ]
  },
  {
   "cell_type": "code",
   "execution_count": 23,
   "metadata": {
    "collapsed": true
   },
   "outputs": [],
   "source": [
    "#Form lists for the urls and locations\n",
    "urls = []\n",
    "locs = []\n",
    "with open('clistlinks.txt', 'r') as rf:\n",
    "    for line in rf.readlines():\n",
    "        l=line.split('\"')\n",
    "        urls.append(l[0])\n",
    "        locs.append(l[1].replace('\"',\"\").replace('>','').replace('\\n',''))\n",
    "#can use mult chars to split on"
   ]
  },
  {
   "cell_type": "code",
   "execution_count": 25,
   "metadata": {
    "collapsed": true
   },
   "outputs": [],
   "source": [
    "#Add prefix to urls \n",
    "links=[]\n",
    "for item in urls:\n",
    "    new=\"https://\"+item\n",
    "    links.append(new)"
   ]
  },
  {
   "cell_type": "code",
   "execution_count": 26,
   "metadata": {
    "collapsed": true
   },
   "outputs": [],
   "source": [
    "# Create dataframe with the locations and the links\n",
    "import pandas as pd\n",
    "df = pd.DataFrame(links,index=locs,columns=['link'])"
   ]
  },
  {
   "cell_type": "code",
   "execution_count": 27,
   "metadata": {},
   "outputs": [
    {
     "data": {
      "text/html": [
       "<div>\n",
       "<table border=\"1\" class=\"dataframe\">\n",
       "  <thead>\n",
       "    <tr style=\"text-align: right;\">\n",
       "      <th></th>\n",
       "      <th>link</th>\n",
       "    </tr>\n",
       "  </thead>\n",
       "  <tbody>\n",
       "    <tr>\n",
       "      <th>albany</th>\n",
       "      <td>https://albany.craigslist.org/</td>\n",
       "    </tr>\n",
       "    <tr>\n",
       "      <th>allentown</th>\n",
       "      <td>https://allentown.craigslist.org/</td>\n",
       "    </tr>\n",
       "    <tr>\n",
       "      <th>baltimore</th>\n",
       "      <td>https://baltimore.craigslist.org/</td>\n",
       "    </tr>\n",
       "    <tr>\n",
       "      <th>binghamton</th>\n",
       "      <td>https://binghamton.craigslist.org/</td>\n",
       "    </tr>\n",
       "    <tr>\n",
       "      <th>catskills</th>\n",
       "      <td>https://catskills.craigslist.org/</td>\n",
       "    </tr>\n",
       "    <tr>\n",
       "      <th>central nj</th>\n",
       "      <td>https://cnj.craigslist.org/</td>\n",
       "    </tr>\n",
       "    <tr>\n",
       "      <th>delaware</th>\n",
       "      <td>https://delaware.craigslist.org/</td>\n",
       "    </tr>\n",
       "    <tr>\n",
       "      <th>eastern ct</th>\n",
       "      <td>https://newlondon.craigslist.org/</td>\n",
       "    </tr>\n",
       "    <tr>\n",
       "      <th>eastern shore</th>\n",
       "      <td>https://easternshore.craigslist.org/</td>\n",
       "    </tr>\n",
       "    <tr>\n",
       "      <th>harrisburg</th>\n",
       "      <td>https://harrisburg.craigslist.org/</td>\n",
       "    </tr>\n",
       "    <tr>\n",
       "      <th>hartford</th>\n",
       "      <td>https://hartford.craigslist.org/</td>\n",
       "    </tr>\n",
       "    <tr>\n",
       "      <th>hudson valley</th>\n",
       "      <td>https://hudsonvalley.craigslist.org/</td>\n",
       "    </tr>\n",
       "    <tr>\n",
       "      <th>jersey shore</th>\n",
       "      <td>https://jerseyshore.craigslist.org/</td>\n",
       "    </tr>\n",
       "    <tr>\n",
       "      <th>lancaster</th>\n",
       "      <td>https://lancaster.craigslist.org/</td>\n",
       "    </tr>\n",
       "    <tr>\n",
       "      <th>long island</th>\n",
       "      <td>https://longisland.craigslist.org/</td>\n",
       "    </tr>\n",
       "    <tr>\n",
       "      <th>new haven</th>\n",
       "      <td>https://newhaven.craigslist.org/</td>\n",
       "    </tr>\n",
       "    <tr>\n",
       "      <th>north jersey</th>\n",
       "      <td>https://newjersey.craigslist.org/</td>\n",
       "    </tr>\n",
       "    <tr>\n",
       "      <th>northwest ct</th>\n",
       "      <td>https://nwct.craigslist.org/</td>\n",
       "    </tr>\n",
       "    <tr>\n",
       "      <th>oneonta</th>\n",
       "      <td>https://oneonta.craigslist.org/</td>\n",
       "    </tr>\n",
       "    <tr>\n",
       "      <th>philadelphia</th>\n",
       "      <td>https://philadelphia.craigslist.org/</td>\n",
       "    </tr>\n",
       "    <tr>\n",
       "      <th>poconos</th>\n",
       "      <td>https://poconos.craigslist.org/</td>\n",
       "    </tr>\n",
       "    <tr>\n",
       "      <th>reading</th>\n",
       "      <td>https://reading.craigslist.org/</td>\n",
       "    </tr>\n",
       "    <tr>\n",
       "      <th>rhode island</th>\n",
       "      <td>https://providence.craigslist.org/</td>\n",
       "    </tr>\n",
       "    <tr>\n",
       "      <th>scranton</th>\n",
       "      <td>https://scranton.craigslist.org/</td>\n",
       "    </tr>\n",
       "    <tr>\n",
       "      <th>south coast</th>\n",
       "      <td>https://southcoast.craigslist.org/</td>\n",
       "    </tr>\n",
       "    <tr>\n",
       "      <th>south jersey</th>\n",
       "      <td>https://southjersey.craigslist.org/</td>\n",
       "    </tr>\n",
       "    <tr>\n",
       "      <th>western mass</th>\n",
       "      <td>https://westernmass.craigslist.org/</td>\n",
       "    </tr>\n",
       "    <tr>\n",
       "      <th>williamsport</th>\n",
       "      <td>https://williamsport.craigslist.org/</td>\n",
       "    </tr>\n",
       "    <tr>\n",
       "      <th>worcester</th>\n",
       "      <td>https://worcester.craigslist.org/</td>\n",
       "    </tr>\n",
       "    <tr>\n",
       "      <th>york</th>\n",
       "      <td>https://york.craigslist.org/</td>\n",
       "    </tr>\n",
       "  </tbody>\n",
       "</table>\n",
       "</div>"
      ],
      "text/plain": [
       "                                               link\n",
       "albany               https://albany.craigslist.org/\n",
       "allentown         https://allentown.craigslist.org/\n",
       "baltimore         https://baltimore.craigslist.org/\n",
       "binghamton       https://binghamton.craigslist.org/\n",
       "catskills         https://catskills.craigslist.org/\n",
       "central nj              https://cnj.craigslist.org/\n",
       "delaware           https://delaware.craigslist.org/\n",
       "eastern ct        https://newlondon.craigslist.org/\n",
       "eastern shore  https://easternshore.craigslist.org/\n",
       "harrisburg       https://harrisburg.craigslist.org/\n",
       "hartford           https://hartford.craigslist.org/\n",
       "hudson valley  https://hudsonvalley.craigslist.org/\n",
       "jersey shore    https://jerseyshore.craigslist.org/\n",
       "lancaster         https://lancaster.craigslist.org/\n",
       "long island      https://longisland.craigslist.org/\n",
       "new haven          https://newhaven.craigslist.org/\n",
       "north jersey      https://newjersey.craigslist.org/\n",
       "northwest ct           https://nwct.craigslist.org/\n",
       "oneonta             https://oneonta.craigslist.org/\n",
       "philadelphia   https://philadelphia.craigslist.org/\n",
       "poconos             https://poconos.craigslist.org/\n",
       "reading             https://reading.craigslist.org/\n",
       "rhode island     https://providence.craigslist.org/\n",
       "scranton           https://scranton.craigslist.org/\n",
       "south coast      https://southcoast.craigslist.org/\n",
       "south jersey    https://southjersey.craigslist.org/\n",
       "western mass    https://westernmass.craigslist.org/\n",
       "williamsport   https://williamsport.craigslist.org/\n",
       "worcester         https://worcester.craigslist.org/\n",
       "york                   https://york.craigslist.org/"
      ]
     },
     "execution_count": 27,
     "metadata": {},
     "output_type": "execute_result"
    }
   ],
   "source": [
    "df"
   ]
  },
  {
   "cell_type": "code",
   "execution_count": 31,
   "metadata": {
    "collapsed": true
   },
   "outputs": [],
   "source": [
    "from selenium import webdriver\n",
    "from selenium.webdriver.common.keys import Keys\n",
    "from selenium.webdriver.common.by import By\n",
    "from selenium.webdriver.support import expected_conditions as EC\n",
    "from selenium.webdriver.support.ui import WebDriverWait\n",
    "from selenium.common.exceptions import TimeoutException, NoSuchElementException, UnexpectedAlertPresentException, WebDriverException\n",
    "from selenium.webdriver.chrome.options import Options"
   ]
  },
  {
   "cell_type": "code",
   "execution_count": 30,
   "metadata": {},
   "outputs": [
    {
     "name": "stdout",
     "output_type": "stream",
     "text": [
      "05820\n",
      "08501\n",
      "12124\n",
      "13901\n",
      "\n",
      "\n",
      "07833\n",
      "\n",
      "\n",
      "17101\n",
      "05047\n",
      "\n",
      "17740\n",
      "01523\n",
      "04050\n",
      "05472\n",
      "\n",
      "\n",
      "13820\n",
      "13673\n",
      "\n",
      "01864\n",
      "\n",
      "18501\n",
      "\n",
      "\n",
      "\n",
      "17701\n",
      "01601\n",
      "03909\n"
     ]
    }
   ],
   "source": [
    "# Get zip codes for each location and create dictionary connecting zip codes to location\n",
    "driver = webdriver.Chrome()\n",
    "d={}\n",
    "for elem in locs:\n",
    "    driver.get(\"http://zipcode.org/zip_code_search\")\n",
    "    e = driver.find_element_by_name(\"txtTownCity\")\n",
    "    e.clear()\n",
    "    e.send_keys(elem)\n",
    "    e.send_keys(Keys.RETURN)\n",
    "    try:\n",
    "        content = driver.find_element_by_class_name('Search_Results_Link_Text')\n",
    "        zipcode = content.get_property(\"text\")\n",
    "        d[elem]=zipcode\n",
    "    except:\n",
    "        d[elem]='unknown'\n",
    "    print(zipcode)\n",
    "    zipcode=''\n",
    "driver.close()\n",
    "#update to include extra landing page, use case/switch"
   ]
  },
  {
   "cell_type": "code",
   "execution_count": 32,
   "metadata": {},
   "outputs": [
    {
     "data": {
      "text/plain": [
       "{'albany': '05820',\n",
       " 'allentown': '08501',\n",
       " 'baltimore': '12124',\n",
       " 'binghamton': '13901',\n",
       " 'catskills': 'unknown',\n",
       " 'central nj': 'unknown',\n",
       " 'delaware': '07833',\n",
       " 'eastern ct': 'unknown',\n",
       " 'eastern shore': 'unknown',\n",
       " 'harrisburg': '17101',\n",
       " 'hartford': '05047',\n",
       " 'hudson valley': 'unknown',\n",
       " 'jersey shore': '17740',\n",
       " 'lancaster': '01523',\n",
       " 'long island': '04050',\n",
       " 'new haven': '05472',\n",
       " 'north jersey': 'unknown',\n",
       " 'northwest ct': 'unknown',\n",
       " 'oneonta': '13820',\n",
       " 'philadelphia': '13673',\n",
       " 'poconos': 'unknown',\n",
       " 'reading': '01864',\n",
       " 'rhode island': 'unknown',\n",
       " 'scranton': '18501',\n",
       " 'south coast': 'unknown',\n",
       " 'south jersey': 'unknown',\n",
       " 'western mass': 'unknown',\n",
       " 'williamsport': '17701',\n",
       " 'worcester': '01601',\n",
       " 'york': '03909'}"
      ]
     },
     "execution_count": 32,
     "metadata": {},
     "output_type": "execute_result"
    }
   ],
   "source": [
    "d"
   ]
  },
  {
   "cell_type": "code",
   "execution_count": 53,
   "metadata": {},
   "outputs": [
    {
     "data": {
      "text/plain": [
       "[('baltimore', '12124'),\n",
       " ('allentown', '08501'),\n",
       " ('long island', '04050'),\n",
       " ('worcester', '01601'),\n",
       " ('delaware', '07833'),\n",
       " ('williamsport', '17701'),\n",
       " ('scranton', '18501'),\n",
       " ('oneonta', '13820'),\n",
       " ('york', '03909'),\n",
       " ('new haven', '05472'),\n",
       " ('hartford', '05047'),\n",
       " ('harrisburg', '17101'),\n",
       " ('reading', '01864'),\n",
       " ('binghamton', '13901'),\n",
       " ('philadelphia', '13673'),\n",
       " ('jersey shore', '17740'),\n",
       " ('lancaster', '01523'),\n",
       " ('albany', '05820')]"
      ]
     },
     "execution_count": 53,
     "metadata": {},
     "output_type": "execute_result"
    }
   ],
   "source": [
    "good=[item for item in d.items() if item[1] != 'unknown']\n",
    "good"
   ]
  },
  {
   "cell_type": "code",
   "execution_count": 54,
   "metadata": {
    "collapsed": true
   },
   "outputs": [],
   "source": [
    "# Group together those that failed\n",
    "fails=[key for key,val in d.items() if val=='unknown']"
   ]
  },
  {
   "cell_type": "code",
   "execution_count": 80,
   "metadata": {},
   "outputs": [
    {
     "data": {
      "text/plain": [
       "['south coast',\n",
       " 'north jersey',\n",
       " 'western mass',\n",
       " 'central nj',\n",
       " 'eastern ct',\n",
       " 'south jersey',\n",
       " 'northwest ct',\n",
       " 'hudson valley',\n",
       " 'eastern shore',\n",
       " 'rhode island']"
      ]
     },
     "execution_count": 80,
     "metadata": {},
     "output_type": "execute_result"
    },
    {
     "data": {
      "text/plain": [
       "10"
      ]
     },
     "execution_count": 80,
     "metadata": {},
     "output_type": "execute_result"
    }
   ],
   "source": [
    "fails\n",
    "len(fails)"
   ]
  },
  {
   "cell_type": "code",
   "execution_count": 63,
   "metadata": {},
   "outputs": [
    {
     "ename": "AttributeError",
     "evalue": "'WebDriver' object has no attribute 'find_element_by_class'",
     "output_type": "error",
     "traceback": [
      "\u001b[1;31m---------------------------------------------------------------------------\u001b[0m",
      "\u001b[1;31mAttributeError\u001b[0m                            Traceback (most recent call last)",
      "\u001b[1;32m<ipython-input-63-82bd6eb485d4>\u001b[0m in \u001b[0;36m<module>\u001b[1;34m()\u001b[0m\n\u001b[0;32m      6\u001b[0m     \u001b[0me\u001b[0m\u001b[1;33m.\u001b[0m\u001b[0msend_keys\u001b[0m\u001b[1;33m(\u001b[0m\u001b[0melem\u001b[0m \u001b[1;33m+\u001b[0m\u001b[1;34m' zip code'\u001b[0m\u001b[1;33m)\u001b[0m\u001b[1;33m\u001b[0m\u001b[0m\n\u001b[0;32m      7\u001b[0m     \u001b[0me\u001b[0m\u001b[1;33m.\u001b[0m\u001b[0msend_keys\u001b[0m\u001b[1;33m(\u001b[0m\u001b[0mKeys\u001b[0m\u001b[1;33m.\u001b[0m\u001b[0mRETURN\u001b[0m\u001b[1;33m)\u001b[0m\u001b[1;33m\u001b[0m\u001b[0m\n\u001b[1;32m----> 8\u001b[1;33m     \u001b[0mdriver\u001b[0m\u001b[1;33m.\u001b[0m\u001b[0mfind_element_by_class\u001b[0m\u001b[1;33m(\u001b[0m\u001b[1;34m'title'\u001b[0m\u001b[1;33m)\u001b[0m\u001b[1;33m\u001b[0m\u001b[0m\n\u001b[0m\u001b[0;32m      9\u001b[0m     \u001b[1;32mbreak\u001b[0m\u001b[1;33m\u001b[0m\u001b[0m\n",
      "\u001b[1;31mAttributeError\u001b[0m: 'WebDriver' object has no attribute 'find_element_by_class'"
     ]
    }
   ],
   "source": [
    "for elem in fails[1:]:\n",
    "    driver = webdriver.Chrome()\n",
    "    driver.get(\"http://www.google.com\")\n",
    "    e = driver.find_element_by_name(\"q\")\n",
    "    e.clear()\n",
    "    e.send_keys(elem +' zip code')\n",
    "    e.send_keys(Keys.RETURN)\n",
    "    driver.find_element_by_class('title')    \n",
    "    break"
   ]
  },
  {
   "cell_type": "code",
   "execution_count": 74,
   "metadata": {},
   "outputs": [
    {
     "name": "stdout",
     "output_type": "stream",
     "text": [
      "south coast\n",
      "north jersey\n",
      "western mass\n",
      "central nj\n",
      "eastern ct\n",
      "south jersey\n",
      "northwest ct\n",
      "hudson valley\n",
      "eastern shore\n",
      "rhode island\n"
     ]
    }
   ],
   "source": [
    "import re\n",
    "with open('zipcodes.txt','r')as rf:\n",
    "        f_contents = rf.read()\n",
    "string = f_contents\n",
    "for fail in fails:\n",
    "    try:\n",
    "        pattern = fail+ ' \\d+'\n",
    "        matchobj = re.search(pattern, string, re.I|re.M).group(0)\n",
    "        m = matchobj.split()\n",
    "        d[m[0]]=m[1]\n",
    "    except:\n",
    "        print(fail)"
   ]
  },
  {
   "cell_type": "code",
   "execution_count": 81,
   "metadata": {},
   "outputs": [
    {
     "data": {
      "text/plain": [
       "['south coast',\n",
       " 'north jersey',\n",
       " 'western mass',\n",
       " 'central nj',\n",
       " 'eastern ct',\n",
       " 'south jersey',\n",
       " 'northwest ct',\n",
       " 'hudson valley',\n",
       " 'eastern shore',\n",
       " 'rhode island']"
      ]
     },
     "execution_count": 81,
     "metadata": {},
     "output_type": "execute_result"
    },
    {
     "data": {
      "text/plain": [
       "10"
      ]
     },
     "execution_count": 81,
     "metadata": {},
     "output_type": "execute_result"
    }
   ],
   "source": [
    "#See if there are any other zips still missing \n",
    "fails=[key for key,val in d.items() if val=='unknown']\n",
    "fails\n",
    "len(fails)"
   ]
  },
  {
   "cell_type": "code",
   "execution_count": null,
   "metadata": {
    "collapsed": true
   },
   "outputs": [],
   "source": [
    "#Add missing zips to dictionary by hand\n",
    "d['binghamton']='13901'\n",
    "d['catskills']='12414'\n",
    "d['boston']='02110'\n",
    "d['north jersey']='07024'\n",
    "d['eastern ct']='06226'\n",
    "d['south coast']='02790'\n",
    "d['elmira']='14901'"
   ]
  },
  {
   "cell_type": "code",
   "execution_count": null,
   "metadata": {
    "collapsed": true
   },
   "outputs": [],
   "source": [
    "#Ensure that the length of dictionary matches the number of rows in the dataframe\n",
    "len(d)==df.shape[0]"
   ]
  },
  {
   "cell_type": "code",
   "execution_count": null,
   "metadata": {
    "collapsed": true
   },
   "outputs": [],
   "source": [
    "#Add zip codes to dataframe\n",
    "df['zip_codes']=d.values()\n",
    "df.index.name = 'location'\n",
    "df.columns = ['url','zip_code']"
   ]
  },
  {
   "cell_type": "code",
   "execution_count": 10,
   "metadata": {
    "collapsed": true
   },
   "outputs": [],
   "source": [
    "import pickle\n",
    "df= pickle.load(open('clist_df','rb'))"
   ]
  },
  {
   "cell_type": "code",
   "execution_count": 16,
   "metadata": {
    "collapsed": true
   },
   "outputs": [],
   "source": [
    "#save dataframe to pickle to easily restore later\n",
    "df.to_pickle('clist_df')"
   ]
  },
  {
   "cell_type": "markdown",
   "metadata": {},
   "source": [
    "Next steps:\n",
    "3. Use Selenium to post an ad to a particular location using a particular username and password\n",
    "4. Post several ads in multiple locations by looping through various username/password combinations"
   ]
  }
 ],
 "metadata": {
  "kernelspec": {
   "display_name": "Python 3",
   "language": "python",
   "name": "python3"
  },
  "language_info": {
   "codemirror_mode": {
    "name": "ipython",
    "version": 3
   },
   "file_extension": ".py",
   "mimetype": "text/x-python",
   "name": "python",
   "nbconvert_exporter": "python",
   "pygments_lexer": "ipython3",
   "version": "3.5.2"
  }
 },
 "nbformat": 4,
 "nbformat_minor": 2
}
