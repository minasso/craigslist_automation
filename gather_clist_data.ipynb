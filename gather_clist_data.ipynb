{
 "cells": [
  {
   "cell_type": "markdown",
   "metadata": {},
   "source": [
    "Steps:\n",
    "1. Make a beautiful soup object from homepage to extract the links of postable locations\n",
    "2. Get zipcodes for each location\n",
    "3. Create a dataframe with location, link, zipcode"
   ]
  },
  {
   "cell_type": "code",
   "execution_count": 2,
   "metadata": {
    "collapsed": true
   },
   "outputs": [],
   "source": [
    "def makesoup(url):\n",
    "    import requests, bs4, re\n",
    "    res = requests.get(url)\n",
    "    res.raise_for_status()\n",
    "    soup = bs4.BeautifulSoup(res.text, \"lxml\")\n",
    "    return(soup)"
   ]
  },
  {
   "cell_type": "code",
   "execution_count": 31,
   "metadata": {
    "collapsed": true
   },
   "outputs": [],
   "source": [
    "#Create bs object from clist homepage in order to extract the links of all postable locations\n",
    "url = 'https://newyork.craigslist.org/'\n",
    "soup = makesoup(url)\n",
    "link_info = soup.find('li', {'class':'s'} )"
   ]
  },
  {
   "cell_type": "code",
   "execution_count": 43,
   "metadata": {},
   "outputs": [],
   "source": [
    "# Clean up the link_info using regex to get rid of everything but the urls and locations\n",
    "import re\n",
    "pat = re.compile('\"\\/\\/(\\w+\\.\\w+\\.org\\/\">\\w+\\s?\\w+)')\n",
    "m = re.findall(pat,str(link_info))\n",
    "with open('clistlinks.txt', 'w') as wf:\n",
    "    for item in m:\n",
    "        wf.write(item)\n",
    "        wf.write('\\n')"
   ]
  },
  {
   "cell_type": "code",
   "execution_count": 4,
   "metadata": {
    "collapsed": true
   },
   "outputs": [],
   "source": [
    "#Form lists for the urls and locations\n",
    "urls = []\n",
    "locs = []\n",
    "with open('clistlinks.txt', 'r') as rf:\n",
    "    for line in rf.readlines():\n",
    "        l=line.split('\"')\n",
    "        urls.append(l[0])\n",
    "        locs.append(l[1].replace('\"',\"\").replace('>','').replace('\\n',''))\n",
    "#can use mult chars to split on"
   ]
  },
  {
   "cell_type": "code",
   "execution_count": 112,
   "metadata": {
    "collapsed": true
   },
   "outputs": [],
   "source": [
    "#Add prefix to urls \n",
    "links=[]\n",
    "for item in urls:\n",
    "    new=\"https://\"+item\n",
    "    links.append(new)"
   ]
  },
  {
   "cell_type": "code",
   "execution_count": 20,
   "metadata": {
    "collapsed": true
   },
   "outputs": [],
   "source": [
    "# Create dataframe with the locations and the links\n",
    "import pandas as pd\n",
    "df = pd.DataFrame(links,index=locs,columns=['link'])"
   ]
  },
  {
   "cell_type": "code",
   "execution_count": 8,
   "metadata": {
    "collapsed": true
   },
   "outputs": [],
   "source": [
    "# Get zip codes for each location using selenium and create dictionary connecting zip codes to location\n",
    "from selenium import webdriver\n",
    "from selenium.webdriver.common.keys import Keys\n",
    "driver = webdriver.Chrome()\n",
    "d={}\n",
    "for elem in locs:\n",
    "    driver.get(\"http://zipcode.org/zip_code_search\")\n",
    "    e = driver.find_element_by_name(\"txtTownCity\")\n",
    "    e.clear()\n",
    "    e.send_keys(elem)\n",
    "    e.send_keys(Keys.RETURN)\n",
    "    try:\n",
    "        content = driver.find_element_by_class_name('Search_Results_Link_Text')\n",
    "        zipcode = content.get_property(\"text\")\n",
    "        d[elem]=zipcode\n",
    "    except:\n",
    "        d[elem]='unknown'\n",
    "driver.close()\n",
    "#update to include extra landing page, use case/switch"
   ]
  },
  {
   "cell_type": "code",
   "execution_count": 58,
   "metadata": {
    "collapsed": true
   },
   "outputs": [],
   "source": [
    "# Group together those that failed and try again using google\n",
    "fails=[]\n",
    "for key,val in d.items():\n",
    "    if val=='unknown':\n",
    "        fails.append(key)\n",
    "#redo as one line list comprehension\n",
    "\n",
    "for elem in fails:\n",
    "    driver = webdriver.Chrome()\n",
    "    driver.get(\"http://www.google.com\")\n",
    "    e = driver.find_element_by_name(\"q\")\n",
    "    e.clear()\n",
    "    e.send_keys(elem+' zip codes')\n",
    "    e.send_keys(Keys.RETURN)"
   ]
  },
  {
   "cell_type": "code",
   "execution_count": 47,
   "metadata": {},
   "outputs": [
    {
     "name": "stdout",
     "output_type": "stream",
     "text": [
      "binghamton\n",
      "boston\n",
      "catskills\n",
      "eastern ct\n",
      "north jersey\n",
      "south coast\n"
     ]
    }
   ],
   "source": [
    "#See if there is any other zips still missing \n",
    "for elem in locs:\n",
    "    if elem not in d:\n",
    "        print(elem)"
   ]
  },
  {
   "cell_type": "code",
   "execution_count": 55,
   "metadata": {
    "collapsed": true
   },
   "outputs": [],
   "source": [
    "#Add missing zips to dictionary by hand\n",
    "d['binghamton']='13901'\n",
    "d['catskills']='12414'\n",
    "d['boston']='02110'\n",
    "d['north jersey']='07024'\n",
    "d['eastern ct']='06226'\n",
    "d['south coast']='02790'"
   ]
  },
  {
   "cell_type": "code",
   "execution_count": 104,
   "metadata": {},
   "outputs": [
    {
     "data": {
      "text/plain": [
       "True"
      ]
     },
     "execution_count": 104,
     "metadata": {},
     "output_type": "execute_result"
    }
   ],
   "source": [
    "#Ensure that the length of dictionary matches the number of rows in the dataframe\n",
    "len(d)==df.shape[0]"
   ]
  },
  {
   "cell_type": "code",
   "execution_count": 96,
   "metadata": {
    "collapsed": true
   },
   "outputs": [],
   "source": [
    "#Add zip codes to dataframe\n",
    "df['zip_codes']=d.values()\n",
    "df.index.name = 'location'\n",
    "df.columns = ['url','zip_code']"
   ]
  },
  {
   "cell_type": "code",
   "execution_count": 68,
   "metadata": {
    "collapsed": true
   },
   "outputs": [],
   "source": [
    "#Create dictionary assigning each location as either hs or college and add that info to dataframe\n",
    "colleges=['binghamton','boston','hartford','ithaca','oneonta','syracuse','utica','western mass']\n",
    "hs=[x for x in d if x not in colleges]\n",
    "col_hs={}\n",
    "for elem in d:\n",
    "    if elem in colleges:\n",
    "        col_hs[elem]=\"col\"\n",
    "    else:\n",
    "        col_hs[elem]=\"hs\"\n",
    "df['ad_type']=col_hs.values()"
   ]
  },
  {
   "cell_type": "code",
   "execution_count": 108,
   "metadata": {
    "collapsed": true
   },
   "outputs": [],
   "source": [
    "#save dataframe to pickle to easily restore later\n",
    "df.to_pickle('clist_df')"
   ]
  },
  {
   "cell_type": "markdown",
   "metadata": {},
   "source": [
    "Next steps:\n",
    "3. Use Selenium to post an ad to a particular location using a particular username and password\n",
    "4. Post several ads in multiple locations by looping through various username/password combinations"
   ]
  }
 ],
 "metadata": {
  "kernelspec": {
   "display_name": "Python 3",
   "language": "python",
   "name": "python3"
  },
  "language_info": {
   "codemirror_mode": {
    "name": "ipython",
    "version": 3
   },
   "file_extension": ".py",
   "mimetype": "text/x-python",
   "name": "python",
   "nbconvert_exporter": "python",
   "pygments_lexer": "ipython3",
   "version": "3.5.2"
  }
 },
 "nbformat": 4,
 "nbformat_minor": 2
}
