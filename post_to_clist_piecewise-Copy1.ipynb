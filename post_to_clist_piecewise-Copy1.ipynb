{
 "cells": [
  {
   "cell_type": "markdown",
   "metadata": {},
   "source": [
    "Post new ads or change ads one piece at a time"
   ]
  },
  {
   "cell_type": "code",
   "execution_count": 1,
   "metadata": {
    "collapsed": true
   },
   "outputs": [],
   "source": [
    "import pandas as pd\n",
    "import pickle"
   ]
  },
  {
   "cell_type": "code",
   "execution_count": 2,
   "metadata": {
    "collapsed": true
   },
   "outputs": [],
   "source": [
    "from selenium import webdriver\n",
    "from selenium.webdriver.common.keys import Keys\n",
    "from selenium.webdriver.common.by import By\n",
    "from selenium.webdriver.support import expected_conditions as EC\n",
    "from selenium.webdriver.support.ui import WebDriverWait\n",
    "from selenium.common.exceptions import TimeoutException, NoSuchElementException, UnexpectedAlertPresentException, WebDriverException\n",
    "from selenium.webdriver.chrome.options import Options"
   ]
  },
  {
   "cell_type": "code",
   "execution_count": 3,
   "metadata": {
    "collapsed": true
   },
   "outputs": [],
   "source": [
    "YA = 'Mozilla/5.0 (Windows NT 6.3; Win64; x64) AppleWebKit/537.36 (KHTML, like Gecko) Chrome/60.0.3112.113 Safari/537.36'\n",
    "opts = Options()\n",
    "opts.add_argument(\"user-agent=YA\")\n",
    "opts.add_argument('--disable-extensions')\n",
    "opts.add_argument(\"start-maximized\")"
   ]
  },
  {
   "cell_type": "code",
   "execution_count": 4,
   "metadata": {
    "collapsed": true
   },
   "outputs": [],
   "source": [
    "#reload dataframe with cols: location, url, zip_code, ad_type\n",
    "df = pd.read_pickle('clist_df')"
   ]
  },
  {
   "cell_type": "code",
   "execution_count": 5,
   "metadata": {
    "collapsed": true
   },
   "outputs": [],
   "source": [
    "#obtain login info and ad content\n",
    "#*Note: user should define these variables directly with their own login info and ad content\n",
    "emails = pickle.load(open('email_info','rb'))\n",
    "passwords = pickle.load(open('pword_info','rb'))\n",
    "post_title = pickle.load(open('post_title','rb'))\n",
    "ad = pickle.load(open('ad_info','rb'))\n",
    "phone_number = pickle.load(open('phone_info','rb'))\n",
    "contact_name = pickle.load(open('contact_name','rb'))"
   ]
  },
  {
   "cell_type": "code",
   "execution_count": 6,
   "metadata": {
    "collapsed": true,
    "scrolled": false
   },
   "outputs": [],
   "source": [
    "#define college towns and highschool towns\n",
    "col_towns = df[df['ad_type']=='col']\n",
    "col = list(col_towns.index)\n",
    "hs_towns = df[df['ad_type']=='hs']\n",
    "hs = list(hs_towns.index)"
   ]
  },
  {
   "cell_type": "code",
   "execution_count": 7,
   "metadata": {
    "collapsed": true
   },
   "outputs": [],
   "source": [
    "#function to login and post to a particular location\n",
    "#*note: user will need to change the first two xpaths to correspond with the specific ad type they would like to post\n",
    "def post(loc, email, password):\n",
    "    link = df['url'][loc]\n",
    "    zipcode = df['zip_code'][loc]\n",
    "    driver = webdriver.Chrome()\n",
    "    driver.get(link)\n",
    "    driver.find_element_by_id('post').click()\n",
    "    driver.find_element_by_xpath('/html/body/article/section/form/ul/li[10]/label/span[2]').click()\n",
    "    driver.find_element_by_xpath('/html/body/article/section/form/ul/li[13]/label/span[2]').click()\n",
    "    driver.find_element_by_id('inputEmailHandle').send_keys(email)\n",
    "    driver.find_element_by_id('inputPassword').send_keys(password)\n",
    "    driver.find_element_by_xpath('/html/body/article/section/div/div[1]/form/div[3]/button').click()\n",
    "    try:\n",
    "        driver.find_element_by_id('PostingTitle').send_keys(post_title)\n",
    "    except:\n",
    "        #for those locations with an extra landing page, just choose the first sublocation\n",
    "        #*idea: consider discovering ones w extra page and looping thru sublocations\n",
    "        driver.find_element_by_xpath('/html/body/article/section/form/ul/li[1]/label').click()\n",
    "        driver.find_element_by_id('PostingTitle').send_keys(post_title)\n",
    "    driver.find_element_by_id('postal_code').send_keys(zipcode)\n",
    "    driver.find_element_by_id('PostingBody').send_keys(ad)\n",
    "    #*option: for longer ads, consider using copy and paste by uncommenting the line below\n",
    "    # driver.find_element_by_id('PostingBody').send_keys(Keys.CONTROL, 'v')\n",
    "    driver.find_element_by_xpath('//*[@id=\"contact_phone_ok\"]').click()\n",
    "    driver.find_element_by_xpath('//*[@id=\"contact_text_ok\"]').click()\n",
    "    driver.find_element_by_xpath('//*[@id=\"contact_phone\"]').send_keys(phone_number)\n",
    "    driver.find_element_by_xpath('//*[@id=\"contact_name\"]').send_keys(contact_name)\n",
    "    driver.find_element_by_xpath('//*[@id=\"postingForm\"]/div/button').click()\n",
    "    driver.find_element_by_xpath('//*[@id=\"leafletForm\"]/button[1]').click()\n",
    "    driver.find_element_by_xpath('/html/body/article/section/form/button').click()\n",
    "    #*option: to automatically post without first reviewing the content, uncomment the line below\n",
    "#     driver.find_element_by_xpath('//*[@id=\"publish_top\"]/button').click()"
   ]
  },
  {
   "cell_type": "code",
   "execution_count": 18,
   "metadata": {
    "collapsed": true
   },
   "outputs": [],
   "source": [
    "loc = hs[-12]\n",
    "email = emails[2]\n",
    "password = passwords[2]\n",
    "post_title = 'SAT & ACT Expert | 10 yrs Experience | Affordable Rates!' "
   ]
  },
  {
   "cell_type": "code",
   "execution_count": 19,
   "metadata": {
    "collapsed": true
   },
   "outputs": [],
   "source": [
    "link = df['url'][loc]\n",
    "zipcode = df['zip_code'][loc]\n",
    "driver = webdriver.Chrome(chrome_options=opts)\n",
    "driver.wait = WebDriverWait(driver, 15)\n",
    "driver.get(link)\n",
    "\n",
    "driver.find_element_by_id('post').click()\n",
    "driver.find_element_by_xpath('/html/body/article/section/form/ul/li[10]/label/span[2]').click()\n",
    "driver.find_element_by_xpath('/html/body/article/section/form/ul/li[13]/label/span[2]').click()\n",
    "driver.find_element_by_id('inputEmailHandle').send_keys(email)\n",
    "driver.find_element_by_id('inputPassword').send_keys(password)\n",
    "driver.find_element_by_xpath('/html/body/article/section/div/div[1]/form/div[3]/button').click()\n",
    "\n",
    "driver.find_element_by_id('PostingTitle').send_keys(post_title)\n",
    "driver.find_element_by_id('postal_code').send_keys(zipcode)\n",
    "# driver.find_element_by_id('PostingBody').send_keys(ad)                # load ad from pickle\n",
    "driver.find_element_by_id('PostingBody').send_keys(Keys.CONTROL, 'v')      # or paste the ad from clipboard\n",
    "\n",
    "driver.find_element_by_xpath('//*[@id=\"contact_phone_ok\"]').click()\n",
    "driver.find_element_by_xpath('//*[@id=\"contact_text_ok\"]').click()\n",
    "driver.find_element_by_xpath('//*[@id=\"contact_phone\"]').send_keys(phone_number)\n",
    "driver.find_element_by_xpath('//*[@id=\"contact_name\"]').send_keys(contact_name)\n",
    "driver.find_element_by_xpath('//*[@id=\"postingForm\"]/div/button').click()"
   ]
  },
  {
   "cell_type": "code",
   "execution_count": null,
   "metadata": {
    "collapsed": true
   },
   "outputs": [],
   "source": []
  }
 ],
 "metadata": {
  "kernelspec": {
   "display_name": "Python 3",
   "language": "python",
   "name": "python3"
  },
  "language_info": {
   "codemirror_mode": {
    "name": "ipython",
    "version": 3
   },
   "file_extension": ".py",
   "mimetype": "text/x-python",
   "name": "python",
   "nbconvert_exporter": "python",
   "pygments_lexer": "ipython3",
   "version": "3.5.2"
  }
 },
 "nbformat": 4,
 "nbformat_minor": 2
}
