{
 "cells": [
  {
   "cell_type": "markdown",
   "metadata": {},
   "source": [
    "Post new ads or change ads one piece at a time"
   ]
  },
  {
   "cell_type": "code",
   "execution_count": 1,
   "metadata": {
    "collapsed": true
   },
   "outputs": [],
   "source": [
    "import pandas as pd\n",
    "import pickle\n",
    "from selenium import webdriver\n",
    "from selenium.webdriver.common.keys import Keys\n",
    "from selenium.webdriver.common.by import By\n",
    "from selenium.webdriver.support import expected_conditions as EC\n",
    "from selenium.webdriver.support.ui import WebDriverWait\n",
    "from selenium.common.exceptions import TimeoutException, NoSuchElementException, UnexpectedAlertPresentException, WebDriverException\n",
    "from selenium.webdriver.chrome.options import Options\n",
    "from selenium.webdriver.common.action_chains import ActionChains\n",
    "\n",
    "YA = 'Mozilla/5.0 (Windows NT 6.3; Win64; x64) AppleWebKit/537.36 (KHTML, like Gecko) Chrome/60.0.3112.113 Safari/537.36'\n",
    "opts = Options()\n",
    "opts.add_argument(\"user-agent=YA\")\n",
    "opts.add_argument('--disable-extensions')\n",
    "opts.add_argument(\"start-maximized\")"
   ]
  },
  {
   "cell_type": "code",
   "execution_count": 4,
   "metadata": {
    "collapsed": true
   },
   "outputs": [],
   "source": [
    "df = pd.read_pickle('clist_df')"
   ]
  },
  {
   "cell_type": "code",
   "execution_count": 5,
   "metadata": {
    "collapsed": true
   },
   "outputs": [],
   "source": [
    "emails = pickle.load(open('email_info','rb'))\n",
    "passwords = pickle.load(open('pword_info','rb'))\n",
    "phone_number = pickle.load(open('phone_info','rb'))\n",
    "contact_name = pickle.load(open('contact_name','rb'))"
   ]
  },
  {
   "cell_type": "code",
   "execution_count": 6,
   "metadata": {
    "collapsed": true
   },
   "outputs": [],
   "source": [
    "# post_title = 'SAT & ACT Expert | 10 yrs Experience | Affordable Rates!' \n",
    "# post_title = 'Math & Science Tutor | 10 yrs Experience | Affordable Rates!' \n",
    "post_title = 'College Math & Science | 10 yrs Experience | Affordable Rates!' "
   ]
  },
  {
   "cell_type": "code",
   "execution_count": 25,
   "metadata": {
    "collapsed": true
   },
   "outputs": [],
   "source": [
    "def post(loc, email, password):\n",
    "    '''Login and post to a particular location\n",
    "    note: user will need to change the first two xpaths to correspond with the specific ad type they would like to post\n",
    "    note: ad must be copied to clipboard'''\n",
    "    \n",
    "    link = df['url'][loc]\n",
    "    zipcode = df['zip_code'][loc]\n",
    "    driver = webdriver.Chrome()\n",
    "    driver.get(link)\n",
    "    driver.find_element_by_id('post').click()\n",
    "    driver.find_element_by_xpath('/html/body/article/section/form/ul/li[10]/label/span[2]').click()     #choose ad type\n",
    "    driver.find_element_by_xpath('/html/body/article/section/form/ul/li[13]/label/span[2]').click()\n",
    "    \n",
    "    driver.find_element_by_id('inputEmailHandle').send_keys(email)      #login\n",
    "    driver.find_element_by_id('inputPassword').send_keys(password)   \n",
    "    driver.find_element_by_xpath('/html/body/article/section/div/div[1]/form/div[3]/button').click()\n",
    "    try:\n",
    "        driver.find_element_by_id('PostingTitle').send_keys(post_title)\n",
    "    except:           #for those locations with an extra landing page, just choose the first sublocation\n",
    "        driver.find_element_by_xpath('/html/body/article/section/form/ul/li[1]/label').click()\n",
    "        try:\n",
    "            driver.find_element_by_id('PostingTitle').send_keys(post_title)\n",
    "        except:\n",
    "            driver.find_element_by_xpath('/html/body/article/section/form/ul/li[2]/label/span[2]').click()\n",
    "            driver.find_element_by_id('PostingTitle').send_keys(post_title)\n",
    "    driver.find_element_by_id('postal_code').send_keys(zipcode)\n",
    "    driver.find_element_by_id('PostingBody').send_keys(Keys.CONTROL, 'v')      # paste ad from clipboard\n",
    "    \n",
    "    driver.find_element_by_xpath('//*[@id=\"contact_phone_ok\"]').click()\n",
    "    driver.find_element_by_xpath('//*[@id=\"contact_text_ok\"]').click()\n",
    "    driver.find_element_by_xpath('//*[@id=\"contact_phone\"]').send_keys(phone_number)\n",
    "    driver.find_element_by_xpath('//*[@id=\"contact_name\"]').send_keys(contact_name)\n",
    "    driver.find_element_by_xpath('//*[@id=\"wantamap\"]').click()\n",
    "    \n",
    "    but = driver.find_element_by_css_selector('#postingForm > div > button')     \n",
    "    ActionChains(driver).send_keys_to_element(but,Keys.ENTER).perform()\n",
    "\n",
    "    driver.find_element_by_xpath('/html/body/article/section/form/button').click()\n",
    "\n",
    "#     driver.find_element_by_xpath('//*[@id=\"publish_top\"]/button').click()         #publish\n",
    "#     ActionChains(driver).send_keys(Keys.CONTROL, 'w').perform()                   #close"
   ]
  },
  {
   "cell_type": "code",
   "execution_count": 10,
   "metadata": {
    "collapsed": true
   },
   "outputs": [],
   "source": [
    "locs=list(df.index)"
   ]
  },
  {
   "cell_type": "code",
   "execution_count": 11,
   "metadata": {
    "collapsed": true
   },
   "outputs": [],
   "source": [
    "from itertools import cycle\n",
    "it = cycle(locs)"
   ]
  },
  {
   "cell_type": "code",
   "execution_count": null,
   "metadata": {
    "collapsed": true
   },
   "outputs": [],
   "source": [
    "for i in range(5):\n",
    "    post(next(it),emails[i],passwords[i])"
   ]
  }
 ],
 "metadata": {
  "kernelspec": {
   "display_name": "Python 3",
   "language": "python",
   "name": "python3"
  },
  "language_info": {
   "codemirror_mode": {
    "name": "ipython",
    "version": 3
   },
   "file_extension": ".py",
   "mimetype": "text/x-python",
   "name": "python",
   "nbconvert_exporter": "python",
   "pygments_lexer": "ipython3",
   "version": "3.5.2"
  }
 },
 "nbformat": 4,
 "nbformat_minor": 2
}
