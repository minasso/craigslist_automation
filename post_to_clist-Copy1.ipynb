{
 "cells": [
  {
   "cell_type": "markdown",
   "metadata": {},
   "source": [
    "Steps:\n",
    "1. Prepare data by loading login info, ad content, and previously created clist dataframe\n",
    "2. Use selenium to automate craigslist post\n",
    "3. Loop through multiple email/password/location combinations to batch post ads"
   ]
  },
  {
   "cell_type": "code",
   "execution_count": 2,
   "metadata": {
    "collapsed": true
   },
   "outputs": [],
   "source": [
    "import pandas as pd\n",
    "import pickle"
   ]
  },
  {
   "cell_type": "code",
   "execution_count": 3,
   "metadata": {
    "collapsed": true
   },
   "outputs": [],
   "source": [
    "from selenium import webdriver\n",
    "from selenium.webdriver.common.keys import Keys\n",
    "from selenium.webdriver.common.by import By\n",
    "from selenium.webdriver.support import expected_conditions as EC\n",
    "from selenium.webdriver.support.ui import WebDriverWait\n",
    "from selenium.common.exceptions import TimeoutException, NoSuchElementException, UnexpectedAlertPresentException, WebDriverException\n",
    "from selenium.webdriver.chrome.options import Options"
   ]
  },
  {
   "cell_type": "code",
   "execution_count": 7,
   "metadata": {},
   "outputs": [],
   "source": [
    "YA = 'Mozilla/5.0 (Windows NT 6.3; Win64; x64) AppleWebKit/537.36 (KHTML, like Gecko) Chrome/60.0.3112.113 Safari/537.36'\n",
    "opts = Options()\n",
    "opts.add_argument(\"user-agent=YA\")\n",
    "opts.add_argument('--disable-extensions')\n",
    "opts.add_argument(\"start-maximized\")\n",
    "driver = webdriver.Chrome(chrome_options = opts)\n",
    "driver.wait = WebDriverWait(driver, 15)"
   ]
  },
  {
   "cell_type": "code",
   "execution_count": null,
   "metadata": {
    "collapsed": true
   },
   "outputs": [],
   "source": [
    "#reload dataframe with cols: location, url, zip_code, ad_type\n",
    "df=pd.read_pickle('clist_df')"
   ]
  },
  {
   "cell_type": "code",
   "execution_count": null,
   "metadata": {
    "collapsed": true
   },
   "outputs": [],
   "source": [
    "#obtain login info and ad content\n",
    "#*Note: user should define these variables directly with their own login info and ad content\n",
    "emails=pickle.load(open('email_info','rb'))\n",
    "passwords = pickle.load(open('pword_info','rb'))\n",
    "post_title = pickle.load(open('post_title','rb'))\n",
    "ad=pickle.load(open('ad_info','rb'))\n",
    "phone_number = pickle.load(open('phone_info','rb'))\n",
    "contact_name = pickle.load(open('contact_name','rb'))"
   ]
  },
  {
   "cell_type": "code",
   "execution_count": null,
   "metadata": {
    "collapsed": true,
    "scrolled": false
   },
   "outputs": [],
   "source": [
    "#define college towns and highschool towns\n",
    "col_towns = df[df['ad_type']=='col']\n",
    "col=list(col_towns.index)\n",
    "hs_towns = df[df['ad_type']=='hs']\n",
    "hs= list(hs_towns.index)"
   ]
  },
  {
   "cell_type": "code",
   "execution_count": null,
   "metadata": {
    "collapsed": true
   },
   "outputs": [],
   "source": [
    "#function to login and post to a particular location\n",
    "#*note: user will need to change the first two xpaths to correspond with the specific ad type they would like to post\n",
    "def post(loc, email, password):\n",
    "    link=df['url'][loc]\n",
    "    zipcode=df['zip_code'][loc]\n",
    "    driver = webdriver.Chrome()\n",
    "    driver.get(link)\n",
    "    driver.find_element_by_id('post').click()\n",
    "    driver.find_element_by_xpath('/html/body/article/section/form/ul/li[10]/label/span[2]').click()\n",
    "    driver.find_element_by_xpath('/html/body/article/section/form/ul/li[13]/label/span[2]').click()\n",
    "    driver.find_element_by_id('inputEmailHandle').send_keys(email)\n",
    "    driver.find_element_by_id('inputPassword').send_keys(password)\n",
    "    driver.find_element_by_xpath('/html/body/article/section/div/div[1]/form/div[3]/button').click()\n",
    "    try:\n",
    "        driver.find_element_by_id('PostingTitle').send_keys(post_title)\n",
    "    except:\n",
    "        #for those locations with an extra landing page, just choose the first sublocation\n",
    "        #*idea: consider discovering ones w extra page and looping thru sublocations\n",
    "        driver.find_element_by_xpath('/html/body/article/section/form/ul/li[1]/label').click()\n",
    "        driver.find_element_by_id('PostingTitle').send_keys(post_title)\n",
    "    driver.find_element_by_id('postal_code').send_keys(zipcode)\n",
    "    driver.find_element_by_id('PostingBody').send_keys(ad)\n",
    "    #*option: for longer ads, consider using copy and paste by uncommenting the line below\n",
    "    # driver.find_element_by_id('PostingBody').send_keys(Keys.CONTROL, 'v')\n",
    "    driver.find_element_by_xpath('//*[@id=\"contact_phone_ok\"]').click()\n",
    "    driver.find_element_by_xpath('//*[@id=\"contact_text_ok\"]').click()\n",
    "    driver.find_element_by_xpath('//*[@id=\"contact_phone\"]').send_keys(phone_number)\n",
    "    driver.find_element_by_xpath('//*[@id=\"contact_name\"]').send_keys(contact_name)\n",
    "    driver.find_element_by_xpath('//*[@id=\"postingForm\"]/div/button').click()\n",
    "    driver.find_element_by_xpath('//*[@id=\"leafletForm\"]/button[1]').click()\n",
    "    driver.find_element_by_xpath('/html/body/article/section/form/button').click()\n",
    "    #*option: to automatically post without first reviewing the content, uncomment the line below\n",
    "#     driver.find_element_by_xpath('//*[@id=\"publish_top\"]/button').click()"
   ]
  },
  {
   "cell_type": "code",
   "execution_count": null,
   "metadata": {
    "scrolled": true
   },
   "outputs": [],
   "source": [
    "#example function call\n",
    "i=2\n",
    "location='potsdam-massena'\n",
    "post(location, emails[i], passwords[i])"
   ]
  },
  {
   "cell_type": "markdown",
   "metadata": {},
   "source": [
    "Next steps:\n",
    "3. Loop thru different emails and passwords for every two iterations (if i is multiple of three?) in order to post in the maximum of two locations per day per email. With only three email addresses, you can post to 6 locations per day so you will be able to cover all 30 in 5 days then it's just a matter of renewing. To get thru all 30 locations in one day, you would need 15 email addresses and 3 IP addresses (IP maxes out at 5 email accounts per IP).\n",
    "1. Write another script to batch renew ads that were already posted"
   ]
  }
 ],
 "metadata": {
  "kernelspec": {
   "display_name": "Python 3",
   "language": "python",
   "name": "python3"
  },
  "language_info": {
   "codemirror_mode": {
    "name": "ipython",
    "version": 3
   },
   "file_extension": ".py",
   "mimetype": "text/x-python",
   "name": "python",
   "nbconvert_exporter": "python",
   "pygments_lexer": "ipython3",
   "version": "3.5.2"
  }
 },
 "nbformat": 4,
 "nbformat_minor": 2
}
