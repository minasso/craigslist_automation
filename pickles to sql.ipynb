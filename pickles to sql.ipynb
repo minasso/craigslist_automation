{
 "cells": [
  {
   "cell_type": "markdown",
   "metadata": {},
   "source": [
    "Migrate dataframe from pickle to sql"
   ]
  },
  {
   "cell_type": "code",
   "execution_count": 3,
   "metadata": {
    "collapsed": true
   },
   "outputs": [],
   "source": [
    "import pandas as pd\n",
    "import pickle\n",
    "\n",
    "df = pd.read_pickle('clist_df')\n",
    "\n",
    "emails = pickle.load(open('email_info','rb'))\n",
    "passwords = pickle.load(open('pword_info','rb'))\n",
    "\n",
    "phone_number = pickle.load(open('phone_info','rb'))\n",
    "contact_name = pickle.load(open('contact_name','rb'))\n",
    "\n",
    "# import sqlite3\n",
    "# con = sqlite3.connect('clist.db')\n",
    "# with con:\n",
    "#     df.to_sql('locs',con)"
   ]
  }
 ],
 "metadata": {
  "kernelspec": {
   "display_name": "Python 3",
   "language": "python",
   "name": "python3"
  },
  "language_info": {
   "codemirror_mode": {
    "name": "ipython",
    "version": 3
   },
   "file_extension": ".py",
   "mimetype": "text/x-python",
   "name": "python",
   "nbconvert_exporter": "python",
   "pygments_lexer": "ipython3",
   "version": "3.5.2"
  }
 },
 "nbformat": 4,
 "nbformat_minor": 2
}
