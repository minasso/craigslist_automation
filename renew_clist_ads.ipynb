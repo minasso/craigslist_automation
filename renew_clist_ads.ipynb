{
 "cells": [
  {
   "cell_type": "code",
   "execution_count": 1,
   "metadata": {
    "collapsed": true
   },
   "outputs": [],
   "source": [
    "import pandas as pd\n",
    "import pickle"
   ]
  },
  {
   "cell_type": "code",
   "execution_count": 2,
   "metadata": {
    "collapsed": true
   },
   "outputs": [],
   "source": [
    "from selenium import webdriver\n",
    "from selenium.webdriver.common.keys import Keys\n",
    "from selenium.webdriver.common.by import By\n",
    "from selenium.webdriver.support import expected_conditions as EC\n",
    "from selenium.webdriver.support.ui import WebDriverWait\n",
    "from selenium.common.exceptions import TimeoutException, NoSuchElementException, UnexpectedAlertPresentException, WebDriverException\n",
    "from selenium.webdriver.chrome.options import Options"
   ]
  },
  {
   "cell_type": "code",
   "execution_count": 3,
   "metadata": {
    "collapsed": true
   },
   "outputs": [],
   "source": [
    "YA = 'Mozilla/5.0 (Windows NT 6.3; Win64; x64) AppleWebKit/537.36 (KHTML, like Gecko) Chrome/60.0.3112.113 Safari/537.36'\n",
    "opts = Options()\n",
    "opts.add_argument(\"user-agent=YA\")\n",
    "opts.add_argument('--disable-extensions')\n",
    "opts.add_argument(\"start-maximized\")\n",
    "driver = webdriver.Chrome(chrome_options = opts)\n",
    "driver.wait = WebDriverWait(driver, 15)"
   ]
  },
  {
   "cell_type": "code",
   "execution_count": 4,
   "metadata": {
    "collapsed": true
   },
   "outputs": [],
   "source": [
    "#obtain login info\n",
    "emails=pickle.load(open('email_info','rb'))\n",
    "passwords = pickle.load(open('pword_info','rb'))"
   ]
  },
  {
   "cell_type": "code",
   "execution_count": 5,
   "metadata": {
    "collapsed": true
   },
   "outputs": [],
   "source": [
    "def renew(email, password):\n",
    "    link='https://accounts.craigslist.org/login/home'\n",
    "    driver = webdriver.Chrome()\n",
    "    driver.get(link)\n",
    "    driver.find_element_by_id('inputEmailHandle').send_keys(email)\n",
    "    driver.find_element_by_id('inputPassword').send_keys(password)\n",
    "    driver.find_element_by_xpath('/html/body/section/section/div/div[1]/form/div[3]/button').click()\n",
    "    i=0\n",
    "    while i<30:  #30 is used as a maximum number of ads that require renewing\n",
    "        i+=1\n",
    "        try:\n",
    "            driver.find_element_by_xpath('//*[@id=\"paginator\"]/table/tbody/tr[{}]/td[2]/div/form[3]/input[3]'.format(i)).click()\n",
    "            driver.execute_script(\"window.history.go(-1)\")\n",
    "        except:\n",
    "            pass\n",
    "#*option: uncomment line below to automatically close selenium browser window when finished renewing\n",
    "#             driver.close()\n",
    "    return"
   ]
  },
  {
   "cell_type": "code",
   "execution_count": 6,
   "metadata": {
    "collapsed": true
   },
   "outputs": [],
   "source": [
    "#loop thru all email/password combinations\n",
    "for i in range(3):\n",
    "    renew(emails[i],passwords[i])"
   ]
  },
  {
   "cell_type": "code",
   "execution_count": null,
   "metadata": {
    "collapsed": true
   },
   "outputs": [],
   "source": []
  }
 ],
 "metadata": {
  "kernelspec": {
   "display_name": "Python 3",
   "language": "python",
   "name": "python3"
  },
  "language_info": {
   "codemirror_mode": {
    "name": "ipython",
    "version": 3
   },
   "file_extension": ".py",
   "mimetype": "text/x-python",
   "name": "python",
   "nbconvert_exporter": "python",
   "pygments_lexer": "ipython3",
   "version": "3.5.2"
  }
 },
 "nbformat": 4,
 "nbformat_minor": 2
}
