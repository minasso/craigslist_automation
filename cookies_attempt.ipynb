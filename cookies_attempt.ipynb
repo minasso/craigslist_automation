{
 "cells": [
  {
   "cell_type": "markdown",
   "metadata": {},
   "source": [
    "Post new ads or change ads one piece at a time"
   ]
  },
  {
   "cell_type": "code",
   "execution_count": 3,
   "metadata": {
    "collapsed": true
   },
   "outputs": [],
   "source": [
    "import pandas as pd\n",
    "import pickle\n",
    "from selenium import webdriver\n",
    "from selenium.webdriver.common.keys import Keys\n",
    "from selenium.webdriver.common.by import By\n",
    "from selenium.webdriver.support import expected_conditions as EC\n",
    "from selenium.webdriver.support.ui import WebDriverWait\n",
    "from selenium.common.exceptions import TimeoutException, NoSuchElementException, UnexpectedAlertPresentException, WebDriverException\n",
    "from selenium.webdriver.chrome.options import Options\n",
    "from selenium.webdriver.common.action_chains import ActionChains\n",
    "\n",
    "YA = 'Mozilla/5.0 (Windows NT 6.3; Win64; x64) AppleWebKit/537.36 (KHTML, like Gecko) Chrome/60.0.3112.113 Safari/537.36'\n",
    "opts = Options()\n",
    "opts.add_argument(\"user-agent=YA\")\n",
    "opts.add_argument('--disable-extensions')\n",
    "opts.add_argument(\"start-maximized\")\n",
    "\n",
    "df = pd.read_pickle('clist_df')\n",
    "emails = pickle.load(open('email_info','rb'))\n",
    "passwords = pickle.load(open('pword_info','rb'))\n",
    "phone_number = pickle.load(open('phone_info','rb'))\n",
    "contact_name = pickle.load(open('contact_name','rb'))\n",
    "\n",
    "# post_title = 'SAT & ACT Expert | 10 yrs Experience | Affordable Rates!' \n",
    "# post_title = 'Math & Science Tutor | 10 yrs Experience | Affordable Rates!' \n",
    "post_title = 'College Math & Science | 10 yrs Experience | Affordable Rates!' \n",
    "# ad = ad"
   ]
  },
  {
   "cell_type": "code",
   "execution_count": 15,
   "metadata": {
    "collapsed": true
   },
   "outputs": [],
   "source": [
    "def post(loc, email, password, cookies=None):\n",
    "    '''Login and post to a particular location\n",
    "    note: user will need to change the first two xpaths to correspond with the specific ad type they would like to post\n",
    "    note: ad must be copied to clipboard'''\n",
    "            \n",
    "    link = df['url'][loc]\n",
    "    zipcode = df['zip_code'][loc]\n",
    "    driver = webdriver.Chrome()\n",
    "    driver.get(link)\n",
    "    driver.find_element_by_id('post').click()\n",
    "    driver.find_element_by_xpath('/html/body/article/section/form/ul/li[10]/label/span[2]').click()     #choose ad type\n",
    "    driver.find_element_by_xpath('/html/body/article/section/form/ul/li[13]/label/span[2]').click()\n",
    "    \n",
    "    driver.find_element_by_id('inputEmailHandle').send_keys(email)      #login\n",
    "    driver.find_element_by_id('inputPassword').send_keys(password)   \n",
    "    driver.find_element_by_xpath('/html/body/article/section/div/div[1]/form/div[3]/button').click()\n",
    "    try:\n",
    "        driver.find_element_by_id('PostingTitle').send_keys(post_title)\n",
    "    except:           #for those locations with an extra landing page, just choose the first sublocation\n",
    "        driver.find_element_by_xpath('/html/body/article/section/form/ul/li[1]/label').click()\n",
    "        try:\n",
    "            driver.find_element_by_id('PostingTitle').send_keys(post_title)\n",
    "        except:\n",
    "            driver.find_element_by_xpath('/html/body/article/section/form/ul/li[2]/label/span[2]').click()\n",
    "            driver.find_element_by_id('PostingTitle').send_keys(post_title)\n",
    "    driver.find_element_by_id('postal_code').send_keys(zipcode)\n",
    "    driver.find_element_by_id('PostingBody').send_keys(Keys.CONTROL, 'v')      # paste ad from clipboard\n",
    "    \n",
    "    driver.find_element_by_id(\"contact_phone_ok\").click()\n",
    "    driver.find_element_by_id(\"contact_text_ok\").click()\n",
    "    driver.find_element_by_id(\"contact_phone\").send_keys(phone_number)\n",
    "    driver.find_element_by_id(\"contact_name\").send_keys(contact_name)\n",
    "    driver.find_element_by_id(\"wantamap\").click()\n",
    "    \n",
    "    but = driver.find_element_by_css_selector('#postingForm > div > button')     \n",
    "    ActionChains(driver).send_keys_to_element(but,Keys.ENTER).perform()\n",
    "\n",
    "    driver.find_element_by_xpath('/html/body/article/section/form/button').click()\n",
    "    cookies = driver.get_cookies()\n",
    "    \n",
    "#     import pickle\n",
    "#     pickle.dump(cookies,open('cookies.pkl','wb'))\n",
    "    return cookies\n",
    "#     driver.find_element_by_xpath('//*[@id=\"publish_top\"]/button').click()         #publish\n",
    "#     ActionChains(driver).send_keys(Keys.CONTROL, 'w').perform()                   #close"
   ]
  },
  {
   "cell_type": "code",
   "execution_count": 18,
   "metadata": {},
   "outputs": [
    {
     "data": {
      "text/html": [
       "<div>\n",
       "<table border=\"1\" class=\"dataframe\">\n",
       "  <thead>\n",
       "    <tr style=\"text-align: right;\">\n",
       "      <th></th>\n",
       "      <th>url</th>\n",
       "      <th>zip_code</th>\n",
       "      <th>ad_type</th>\n",
       "    </tr>\n",
       "    <tr>\n",
       "      <th>location</th>\n",
       "      <th></th>\n",
       "      <th></th>\n",
       "      <th></th>\n",
       "    </tr>\n",
       "  </thead>\n",
       "  <tbody>\n",
       "    <tr>\n",
       "      <th>binghamton</th>\n",
       "      <td>https://binghamton.craigslist.org/</td>\n",
       "      <td>12989</td>\n",
       "      <td>hs</td>\n",
       "    </tr>\n",
       "    <tr>\n",
       "      <th>boston</th>\n",
       "      <td>https://boston.craigslist.org/</td>\n",
       "      <td>02790</td>\n",
       "      <td>col</td>\n",
       "    </tr>\n",
       "    <tr>\n",
       "      <th>catskills</th>\n",
       "      <td>https://catskills.craigslist.org/</td>\n",
       "      <td>13901</td>\n",
       "      <td>col</td>\n",
       "    </tr>\n",
       "    <tr>\n",
       "      <th>central nj</th>\n",
       "      <td>https://cnj.craigslist.org/</td>\n",
       "      <td>06010</td>\n",
       "      <td>hs</td>\n",
       "    </tr>\n",
       "    <tr>\n",
       "      <th>eastern ct</th>\n",
       "      <td>https://newlondon.craigslist.org/</td>\n",
       "      <td>12414</td>\n",
       "      <td>hs</td>\n",
       "    </tr>\n",
       "  </tbody>\n",
       "</table>\n",
       "</div>"
      ],
      "text/plain": [
       "                                           url zip_code ad_type\n",
       "location                                                       \n",
       "binghamton  https://binghamton.craigslist.org/    12989      hs\n",
       "boston          https://boston.craigslist.org/    02790     col\n",
       "catskills    https://catskills.craigslist.org/    13901     col\n",
       "central nj         https://cnj.craigslist.org/    06010      hs\n",
       "eastern ct   https://newlondon.craigslist.org/    12414      hs"
      ]
     },
     "execution_count": 18,
     "metadata": {},
     "output_type": "execute_result"
    }
   ],
   "source": [
    "df.head()"
   ]
  },
  {
   "cell_type": "code",
   "execution_count": 22,
   "metadata": {},
   "outputs": [],
   "source": [
    "link = df.loc['binghamton','url']\n",
    "driver = webdriver.Chrome()\n",
    "for cookie in cookies:\n",
    "    driver.add_cookie(cookie)\n",
    "driver.get(link)"
   ]
  },
  {
   "cell_type": "code",
   "execution_count": null,
   "metadata": {
    "collapsed": true
   },
   "outputs": [],
   "source": [
    "#     if cookies not None:\n",
    "#         for cookie in cookies:\n",
    "#             driver.add_cookie(cookie)"
   ]
  },
  {
   "cell_type": "code",
   "execution_count": 4,
   "metadata": {},
   "outputs": [],
   "source": [
    "locs = list(df.index)"
   ]
  },
  {
   "cell_type": "code",
   "execution_count": 5,
   "metadata": {
    "collapsed": true
   },
   "outputs": [],
   "source": [
    "from itertools import cycle\n",
    "it = cycle(locs)"
   ]
  },
  {
   "cell_type": "code",
   "execution_count": 10,
   "metadata": {
    "collapsed": true
   },
   "outputs": [
    {
     "data": {
      "text/plain": [
       "[{'domain': '.craigslist.org',\n",
       "  'expiry': 1545228.026326915,\n",
       "  'httpOnly': False,\n",
       "  'name': 'cl_def_hp',\n",
       "  'path': '/',\n",
       "  'secure': False,\n",
       "  'value': 'catskills'},\n",
       " {'domain': '.craigslist.org',\n",
       "  'expiry': 2145916.8005012367,\n",
       "  'httpOnly': False,\n",
       "  'name': 'cl_b',\n",
       "  'path': '/',\n",
       "  'secure': False,\n",
       "  'value': 'PKxf98Tk5xGckV2KBFO0XAsBxYU'},\n",
       " {'domain': '.craigslist.org',\n",
       "  'expiry': 1516284.036269873,\n",
       "  'httpOnly': True,\n",
       "  'name': 'cl_session',\n",
       "  'path': '/',\n",
       "  'secure': True,\n",
       "  'value': 'zxJb6wyAlPtb5M5Y1MTK2jqgwxc2Va2TwW6SQKopK8yEYTx70c3vWTFSmaDnbJlG'}]"
      ]
     },
     "execution_count": 10,
     "metadata": {},
     "output_type": "execute_result"
    }
   ],
   "source": [
    "cookies = post(next(it),emails[1],passwords[1])"
   ]
  },
  {
   "cell_type": "code",
   "execution_count": 13,
   "metadata": {},
   "outputs": [],
   "source": [
    "cookies = pickle.load(open('cookies.pkl','rb'))"
   ]
  }
 ],
 "metadata": {
  "kernelspec": {
   "display_name": "Python 3",
   "language": "python",
   "name": "python3"
  },
  "language_info": {
   "codemirror_mode": {
    "name": "ipython",
    "version": 3
   },
   "file_extension": ".py",
   "mimetype": "text/x-python",
   "name": "python",
   "nbconvert_exporter": "python",
   "pygments_lexer": "ipython3",
   "version": "3.5.2"
  }
 },
 "nbformat": 4,
 "nbformat_minor": 2
}
